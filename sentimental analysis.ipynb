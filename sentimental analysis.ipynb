{
  "nbformat": 4,
  "nbformat_minor": 0,
  "metadata": {
    "colab": {
      "provenance": []
    },
    "kernelspec": {
      "name": "python3",
      "display_name": "Python 3"
    },
    "language_info": {
      "name": "python"
    }
  },
  "cells": [
    {
      "cell_type": "code",
      "source": [
        "import os\n",
        "\n",
        "# List files in dataset folder\n",
        "print(os.listdir(\"dataset/FinancialPhraseBank-v1.0\"))\n"
      ],
      "metadata": {
        "colab": {
          "base_uri": "https://localhost:8080/"
        },
        "id": "Q608fTvr85zL",
        "outputId": "42abcd82-b899-41ea-ea78-f1da9fd5fde9"
      },
      "execution_count": 4,
      "outputs": [
        {
          "output_type": "stream",
          "name": "stdout",
          "text": [
            "['README.txt', 'Sentences_75Agree.txt', 'License.txt', 'Sentences_50Agree.txt', 'Sentences_66Agree.txt', 'Sentences_AllAgree.txt']\n"
          ]
        }
      ]
    },
    {
      "cell_type": "code",
      "execution_count": 5,
      "metadata": {
        "colab": {
          "base_uri": "https://localhost:8080/"
        },
        "id": "aYGrZSNi8T7J",
        "outputId": "8e0a0c69-83a4-439c-a062-c425e604fc83"
      },
      "outputs": [
        {
          "output_type": "stream",
          "name": "stdout",
          "text": [
            "Extracted Files: ['FinancialPhraseBank-v1.0', '__MACOSX']\n"
          ]
        }
      ],
      "source": [
        "import zipfile\n",
        "import os\n",
        "\n",
        "# Set the path of the ZIP file\n",
        "zip_path = \"/content/FinancialPhraseBank-v1.0.zip\"  # Change this to your ZIP file name\n",
        "\n",
        "# Extract the ZIP file\n",
        "with zipfile.ZipFile(zip_path, 'r') as zip_ref:\n",
        "    zip_ref.extractall(\"dataset\")  # Extract to 'dataset' folder\n",
        "\n",
        "# Check extracted files\n",
        "print(\"Extracted Files:\", os.listdir(\"dataset\"))\n"
      ]
    },
    {
      "cell_type": "code",
      "source": [
        "import pandas as pd\n",
        "\n",
        "file_path = \"dataset/FinancialPhraseBank-v1.0/Sentences_50Agree.txt\"  # Update based on Step 1 output\n",
        "\n",
        "# Read the dataset\n",
        "with open(file_path, \"r\", encoding=\"ISO-8859-1\") as file:\n",
        "    data = file.readlines()\n",
        "\n",
        "# Split sentences and labels\n",
        "sentences = []\n",
        "labels = []\n",
        "for line in data:\n",
        "    parts = line.strip().rsplit(\" @\", 1)  # Split last occurrence of \"@\"\n",
        "    if len(parts) == 2:\n",
        "        sentences.append(parts[0])\n",
        "        labels.append(parts[1])\n",
        "\n",
        "# Create DataFrame\n",
        "df = pd.DataFrame({\"text\": sentences, \"sentiment\": labels})\n",
        "\n",
        "print(df.head())  # View dataset preview\n"
      ],
      "metadata": {
        "colab": {
          "base_uri": "https://localhost:8080/"
        },
        "id": "twK8lXTB8tL9",
        "outputId": "8f62f6b3-b3b4-4678-e7a9-6a0d0d7e14f5"
      },
      "execution_count": 6,
      "outputs": [
        {
          "output_type": "stream",
          "name": "stdout",
          "text": [
            "Empty DataFrame\n",
            "Columns: [text, sentiment]\n",
            "Index: []\n"
          ]
        }
      ]
    },
    {
      "cell_type": "code",
      "source": [
        "import pandas as pd\n",
        "from sklearn.model_selection import train_test_split\n",
        "from sklearn.feature_extraction.text import TfidfVectorizer\n",
        "from sklearn.preprocessing import LabelEncoder\n",
        "\n",
        "# Convert sentiments into numerical labels\n",
        "label_encoder = LabelEncoder()\n",
        "df[\"sentiment\"] = label_encoder.fit_transform(df[\"sentiment\"])\n",
        "\n",
        "# Split data into training and testing sets\n",
        "X_train, X_test, y_train, y_test = train_test_split(df[\"text\"], df[\"sentiment\"], test_size=0.2, random_state=42)\n",
        "\n",
        "# Convert text to numerical features using TF-IDF\n",
        "vectorizer = TfidfVectorizer(stop_words=\"english\", max_features=5000)\n",
        "X_train_tfidf = vectorizer.fit_transform(X_train)\n",
        "X_test_tfidf = vectorizer.transform(X_test)\n"
      ],
      "metadata": {
        "id": "KIGg30ig9G5v"
      },
      "execution_count": 9,
      "outputs": []
    },
    {
      "cell_type": "code",
      "source": [
        "from sklearn.linear_model import LogisticRegression\n",
        "from sklearn.metrics import accuracy_score, classification_report\n",
        "\n",
        "# Train the model\n",
        "model = LogisticRegression()\n",
        "model.fit(X_train_tfidf, y_train)\n",
        "\n",
        "# Predict on test set\n",
        "y_pred = model.predict(X_test_tfidf)\n",
        "\n",
        "# Evaluate the model\n",
        "print(\"Accuracy:\", accuracy_score(y_test, y_pred))\n",
        "print(\"Classification Report:\\n\", classification_report(y_test, y_pred))\n"
      ],
      "metadata": {
        "colab": {
          "base_uri": "https://localhost:8080/"
        },
        "id": "qUeJPZH79IsE",
        "outputId": "fce8c65c-9347-4b41-d2bf-f4ed2641f6e1"
      },
      "execution_count": 10,
      "outputs": [
        {
          "output_type": "stream",
          "name": "stdout",
          "text": [
            "Accuracy: 0.7443298969072165\n",
            "Classification Report:\n",
            "               precision    recall  f1-score   support\n",
            "\n",
            "           0       0.82      0.42      0.55       110\n",
            "           1       0.73      0.95      0.83       571\n",
            "           2       0.77      0.47      0.58       289\n",
            "\n",
            "    accuracy                           0.74       970\n",
            "   macro avg       0.77      0.61      0.65       970\n",
            "weighted avg       0.75      0.74      0.72       970\n",
            "\n"
          ]
        }
      ]
    },
    {
      "cell_type": "code",
      "source": [
        "from imblearn.over_sampling import SMOTE\n",
        "\n",
        "# Apply SMOTE only on the training set\n",
        "smote = SMOTE(random_state=42)\n",
        "X_train_balanced, y_train_balanced = smote.fit_resample(X_train_tfidf, y_train)\n"
      ],
      "metadata": {
        "id": "Xm-O1BSC9OUN"
      },
      "execution_count": 11,
      "outputs": []
    },
    {
      "cell_type": "code",
      "source": [
        "from sklearn.ensemble import RandomForestClassifier\n",
        "\n",
        "# Train a Random Forest model\n",
        "rf_model = RandomForestClassifier(n_estimators=200, random_state=42)\n",
        "rf_model.fit(X_train_balanced, y_train_balanced)\n",
        "\n",
        "# Predict\n",
        "y_pred_rf = rf_model.predict(X_test_tfidf)\n",
        "\n",
        "# Evaluate\n",
        "print(\"Accuracy:\", accuracy_score(y_test, y_pred_rf))\n",
        "print(\"Classification Report:\\n\", classification_report(y_test, y_pred_rf))\n"
      ],
      "metadata": {
        "colab": {
          "base_uri": "https://localhost:8080/"
        },
        "id": "d9FSDmB39QWK",
        "outputId": "1a2e075c-566d-43c3-db96-8f5e35a5655b"
      },
      "execution_count": 12,
      "outputs": [
        {
          "output_type": "stream",
          "name": "stdout",
          "text": [
            "Accuracy: 0.7639175257731958\n",
            "Classification Report:\n",
            "               precision    recall  f1-score   support\n",
            "\n",
            "           0       0.73      0.54      0.62       110\n",
            "           1       0.77      0.94      0.85       571\n",
            "           2       0.77      0.50      0.61       289\n",
            "\n",
            "    accuracy                           0.76       970\n",
            "   macro avg       0.75      0.66      0.69       970\n",
            "weighted avg       0.76      0.76      0.75       970\n",
            "\n"
          ]
        }
      ]
    },
    {
      "cell_type": "code",
      "source": [
        "from sklearn.model_selection import GridSearchCV\n",
        "\n",
        "param_grid = {\n",
        "    \"n_estimators\": [100, 200, 300],\n",
        "    \"max_depth\": [10, 20, 30],\n",
        "}\n",
        "\n",
        "grid_search = GridSearchCV(RandomForestClassifier(), param_grid, cv=3, scoring=\"accuracy\", n_jobs=-1)\n",
        "grid_search.fit(X_train_balanced, y_train_balanced)\n",
        "\n",
        "print(\"Best Parameters:\", grid_search.best_params_)\n"
      ],
      "metadata": {
        "colab": {
          "base_uri": "https://localhost:8080/"
        },
        "id": "XPcyfAXf9VFR",
        "outputId": "f7805936-0be0-40a4-8075-e1386d2a43a6"
      },
      "execution_count": 13,
      "outputs": [
        {
          "output_type": "stream",
          "name": "stdout",
          "text": [
            "Best Parameters: {'max_depth': 30, 'n_estimators': 100}\n"
          ]
        }
      ]
    },
    {
      "cell_type": "code",
      "source": [
        "from sklearn.model_selection import GridSearchCV\n",
        "\n",
        "param_grid = {\n",
        "    \"n_estimators\": [100, 200, 300],\n",
        "    \"max_depth\": [10, 20, 30],\n",
        "}\n",
        "\n",
        "grid_search = GridSearchCV(RandomForestClassifier(), param_grid, cv=3, scoring=\"accuracy\", n_jobs=-1)\n",
        "grid_search.fit(X_train_balanced, y_train_balanced)\n",
        "\n",
        "print(\"Best Parameters:\", grid_search.best_params_)\n"
      ],
      "metadata": {
        "colab": {
          "base_uri": "https://localhost:8080/"
        },
        "id": "yLagp18L9u1s",
        "outputId": "d6617bd3-b043-49db-a821-6ee963b0bcc6"
      },
      "execution_count": 14,
      "outputs": [
        {
          "output_type": "stream",
          "name": "stdout",
          "text": [
            "Best Parameters: {'max_depth': 30, 'n_estimators': 300}\n"
          ]
        }
      ]
    },
    {
      "cell_type": "code",
      "source": [
        "from sklearn.ensemble import RandomForestClassifier\n",
        "from sklearn.metrics import accuracy_score, classification_report\n",
        "\n",
        "# Train Random Forest with the best parameters\n",
        "rf_model = RandomForestClassifier(n_estimators=300, max_depth=30, random_state=42)\n",
        "rf_model.fit(X_train_balanced, y_train_balanced)\n",
        "\n",
        "# Predict on test data\n",
        "y_pred_rf = rf_model.predict(X_test_tfidf)\n",
        "\n",
        "# Evaluate the model\n",
        "print(\"Accuracy:\", accuracy_score(y_test, y_pred_rf))\n",
        "print(\"Classification Report:\\n\", classification_report(y_test, y_pred_rf))\n"
      ],
      "metadata": {
        "colab": {
          "base_uri": "https://localhost:8080/"
        },
        "id": "ieoBb1tr-Jga",
        "outputId": "824e0a2c-91c6-46ab-b84d-81e72b557267"
      },
      "execution_count": 15,
      "outputs": [
        {
          "output_type": "stream",
          "name": "stdout",
          "text": [
            "Accuracy: 0.7360824742268042\n",
            "Classification Report:\n",
            "               precision    recall  f1-score   support\n",
            "\n",
            "           0       0.68      0.49      0.57       110\n",
            "           1       0.74      0.95      0.83       571\n",
            "           2       0.76      0.40      0.53       289\n",
            "\n",
            "    accuracy                           0.74       970\n",
            "   macro avg       0.73      0.62      0.64       970\n",
            "weighted avg       0.74      0.74      0.71       970\n",
            "\n"
          ]
        }
      ]
    }
  ]
}